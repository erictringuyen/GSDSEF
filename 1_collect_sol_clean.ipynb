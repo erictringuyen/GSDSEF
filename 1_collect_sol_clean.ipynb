{
  "nbformat": 4,
  "nbformat_minor": 0,
  "metadata": {
    "colab": {
      "provenance": []
    },
    "kernelspec": {
      "name": "python3",
      "display_name": "Python 3"
    },
    "language_info": {
      "name": "python"
    }
  },
  "cells": [
    {
      "cell_type": "code",
      "execution_count": null,
      "metadata": {
        "colab": {
          "base_uri": "https://localhost:8080/"
        },
        "id": "lXDzNFUsYHGd",
        "outputId": "6cc0424f-abc7-4cea-a284-d6ec0112922f",
        "collapsed": true
      },
      "outputs": [
        {
          "output_type": "stream",
          "name": "stdout",
          "text": [
            "Collecting chembl_webresource_client\n",
            "  Downloading chembl_webresource_client-0.10.9-py3-none-any.whl.metadata (1.4 kB)\n",
            "Collecting mordred\n",
            "  Downloading mordred-1.2.0.tar.gz (128 kB)\n",
            "\u001b[2K     \u001b[90m━━━━━━━━━━━━━━━━━━━━━━━━━━━━━━━━━━━━━━━━\u001b[0m \u001b[32m128.8/128.8 kB\u001b[0m \u001b[31m4.1 MB/s\u001b[0m eta \u001b[36m0:00:00\u001b[0m\n",
            "\u001b[?25h  Preparing metadata (setup.py) ... \u001b[?25l\u001b[?25hdone\n",
            "Requirement already satisfied: numpy in /usr/local/lib/python3.11/dist-packages (1.26.4)\n",
            "Requirement already satisfied: pandas in /usr/local/lib/python3.11/dist-packages (2.2.2)\n",
            "Requirement already satisfied: scikit-learn in /usr/local/lib/python3.11/dist-packages (1.6.0)\n",
            "Requirement already satisfied: matplotlib in /usr/local/lib/python3.11/dist-packages (3.10.0)\n",
            "Collecting rdkit\n",
            "  Downloading rdkit-2024.9.4-cp311-cp311-manylinux_2_28_x86_64.whl.metadata (4.0 kB)\n",
            "Requirement already satisfied: urllib3 in /usr/local/lib/python3.11/dist-packages (from chembl_webresource_client) (2.3.0)\n",
            "Requirement already satisfied: requests>=2.18.4 in /usr/local/lib/python3.11/dist-packages (from chembl_webresource_client) (2.32.3)\n",
            "Collecting requests-cache~=1.2 (from chembl_webresource_client)\n",
            "  Downloading requests_cache-1.2.1-py3-none-any.whl.metadata (9.9 kB)\n",
            "Requirement already satisfied: easydict in /usr/local/lib/python3.11/dist-packages (from chembl_webresource_client) (1.13)\n",
            "Requirement already satisfied: six==1.* in /usr/local/lib/python3.11/dist-packages (from mordred) (1.17.0)\n",
            "Collecting networkx==2.* (from mordred)\n",
            "  Downloading networkx-2.8.8-py3-none-any.whl.metadata (5.1 kB)\n",
            "Requirement already satisfied: python-dateutil>=2.8.2 in /usr/local/lib/python3.11/dist-packages (from pandas) (2.8.2)\n",
            "Requirement already satisfied: pytz>=2020.1 in /usr/local/lib/python3.11/dist-packages (from pandas) (2024.2)\n",
            "Requirement already satisfied: tzdata>=2022.7 in /usr/local/lib/python3.11/dist-packages (from pandas) (2024.2)\n",
            "Requirement already satisfied: scipy>=1.6.0 in /usr/local/lib/python3.11/dist-packages (from scikit-learn) (1.13.1)\n",
            "Requirement already satisfied: joblib>=1.2.0 in /usr/local/lib/python3.11/dist-packages (from scikit-learn) (1.4.2)\n",
            "Requirement already satisfied: threadpoolctl>=3.1.0 in /usr/local/lib/python3.11/dist-packages (from scikit-learn) (3.5.0)\n",
            "Requirement already satisfied: contourpy>=1.0.1 in /usr/local/lib/python3.11/dist-packages (from matplotlib) (1.3.1)\n",
            "Requirement already satisfied: cycler>=0.10 in /usr/local/lib/python3.11/dist-packages (from matplotlib) (0.12.1)\n",
            "Requirement already satisfied: fonttools>=4.22.0 in /usr/local/lib/python3.11/dist-packages (from matplotlib) (4.55.3)\n",
            "Requirement already satisfied: kiwisolver>=1.3.1 in /usr/local/lib/python3.11/dist-packages (from matplotlib) (1.4.8)\n",
            "Requirement already satisfied: packaging>=20.0 in /usr/local/lib/python3.11/dist-packages (from matplotlib) (24.2)\n",
            "Requirement already satisfied: pillow>=8 in /usr/local/lib/python3.11/dist-packages (from matplotlib) (11.1.0)\n",
            "Requirement already satisfied: pyparsing>=2.3.1 in /usr/local/lib/python3.11/dist-packages (from matplotlib) (3.2.1)\n",
            "Requirement already satisfied: charset-normalizer<4,>=2 in /usr/local/lib/python3.11/dist-packages (from requests>=2.18.4->chembl_webresource_client) (3.4.1)\n",
            "Requirement already satisfied: idna<4,>=2.5 in /usr/local/lib/python3.11/dist-packages (from requests>=2.18.4->chembl_webresource_client) (3.10)\n",
            "Requirement already satisfied: certifi>=2017.4.17 in /usr/local/lib/python3.11/dist-packages (from requests>=2.18.4->chembl_webresource_client) (2024.12.14)\n",
            "Requirement already satisfied: attrs>=21.2 in /usr/local/lib/python3.11/dist-packages (from requests-cache~=1.2->chembl_webresource_client) (24.3.0)\n",
            "Collecting cattrs>=22.2 (from requests-cache~=1.2->chembl_webresource_client)\n",
            "  Downloading cattrs-24.1.2-py3-none-any.whl.metadata (8.4 kB)\n",
            "Requirement already satisfied: platformdirs>=2.5 in /usr/local/lib/python3.11/dist-packages (from requests-cache~=1.2->chembl_webresource_client) (4.3.6)\n",
            "Collecting url-normalize>=1.4 (from requests-cache~=1.2->chembl_webresource_client)\n",
            "  Downloading url_normalize-1.4.3-py2.py3-none-any.whl.metadata (3.1 kB)\n",
            "Downloading chembl_webresource_client-0.10.9-py3-none-any.whl (55 kB)\n",
            "\u001b[2K   \u001b[90m━━━━━━━━━━━━━━━━━━━━━━━━━━━━━━━━━━━━━━━━\u001b[0m \u001b[32m55.2/55.2 kB\u001b[0m \u001b[31m5.1 MB/s\u001b[0m eta \u001b[36m0:00:00\u001b[0m\n",
            "\u001b[?25hDownloading networkx-2.8.8-py3-none-any.whl (2.0 MB)\n",
            "\u001b[2K   \u001b[90m━━━━━━━━━━━━━━━━━━━━━━━━━━━━━━━━━━━━━━━━\u001b[0m \u001b[32m2.0/2.0 MB\u001b[0m \u001b[31m42.2 MB/s\u001b[0m eta \u001b[36m0:00:00\u001b[0m\n",
            "\u001b[?25hDownloading rdkit-2024.9.4-cp311-cp311-manylinux_2_28_x86_64.whl (34.2 MB)\n",
            "\u001b[2K   \u001b[90m━━━━━━━━━━━━━━━━━━━━━━━━━━━━━━━━━━━━━━━━\u001b[0m \u001b[32m34.2/34.2 MB\u001b[0m \u001b[31m49.9 MB/s\u001b[0m eta \u001b[36m0:00:00\u001b[0m\n",
            "\u001b[?25hDownloading requests_cache-1.2.1-py3-none-any.whl (61 kB)\n",
            "\u001b[2K   \u001b[90m━━━━━━━━━━━━━━━━━━━━━━━━━━━━━━━━━━━━━━━━\u001b[0m \u001b[32m61.4/61.4 kB\u001b[0m \u001b[31m5.6 MB/s\u001b[0m eta \u001b[36m0:00:00\u001b[0m\n",
            "\u001b[?25hDownloading cattrs-24.1.2-py3-none-any.whl (66 kB)\n",
            "\u001b[2K   \u001b[90m━━━━━━━━━━━━━━━━━━━━━━━━━━━━━━━━━━━━━━━━\u001b[0m \u001b[32m66.4/66.4 kB\u001b[0m \u001b[31m6.4 MB/s\u001b[0m eta \u001b[36m0:00:00\u001b[0m\n",
            "\u001b[?25hDownloading url_normalize-1.4.3-py2.py3-none-any.whl (6.8 kB)\n",
            "Building wheels for collected packages: mordred\n",
            "  Building wheel for mordred (setup.py) ... \u001b[?25l\u001b[?25hdone\n",
            "  Created wheel for mordred: filename=mordred-1.2.0-py3-none-any.whl size=176718 sha256=9cd9638f298b94041ff5d0fd517c1958371d3a527a855decc450a84471e32e23\n",
            "  Stored in directory: /root/.cache/pip/wheels/8b/30/0b/84e3f6775306e74cf5957ee4d16b10bf3927dcec44cc23d5f2\n",
            "Successfully built mordred\n",
            "Installing collected packages: url-normalize, rdkit, networkx, cattrs, requests-cache, mordred, chembl_webresource_client\n",
            "  Attempting uninstall: networkx\n",
            "    Found existing installation: networkx 3.4.2\n",
            "    Uninstalling networkx-3.4.2:\n",
            "      Successfully uninstalled networkx-3.4.2\n",
            "\u001b[31mERROR: pip's dependency resolver does not currently take into account all the packages that are installed. This behaviour is the source of the following dependency conflicts.\n",
            "nx-cugraph-cu12 24.10.0 requires networkx>=3.0, but you have networkx 2.8.8 which is incompatible.\n",
            "scikit-image 0.25.0 requires networkx>=3.0, but you have networkx 2.8.8 which is incompatible.\u001b[0m\u001b[31m\n",
            "\u001b[0mSuccessfully installed cattrs-24.1.2 chembl_webresource_client-0.10.9 mordred-1.2.0 networkx-2.8.8 rdkit-2024.9.4 requests-cache-1.2.1 url-normalize-1.4.3\n"
          ]
        }
      ],
      "source": [
        "pip install chembl_webresource_client mordred numpy pandas scikit-learn matplotlib rdkit"
      ]
    },
    {
      "cell_type": "code",
      "source": [
        "import numpy as np\n",
        "import sqlite3\n",
        "import pandas as pd\n",
        "import matplotlib.pyplot as plt\n",
        "import sys"
      ],
      "metadata": {
        "id": "EhKhdaShahs3"
      },
      "execution_count": null,
      "outputs": []
    },
    {
      "cell_type": "code",
      "source": [
        "import os\n",
        "os.getcwd()"
      ],
      "metadata": {
        "id": "0CX6uEHSbFOO",
        "colab": {
          "base_uri": "https://localhost:8080/",
          "height": 36
        },
        "outputId": "1b293c7c-ec7b-4e88-b105-82ffd39ad114"
      },
      "execution_count": null,
      "outputs": [
        {
          "output_type": "execute_result",
          "data": {
            "text/plain": [
              "'/content'"
            ],
            "application/vnd.google.colaboratory.intrinsic+json": {
              "type": "string"
            }
          },
          "metadata": {},
          "execution_count": 4
        }
      ]
    },
    {
      "cell_type": "code",
      "source": [
        "from google.colab import drive\n",
        "drive.mount('/content/drive')"
      ],
      "metadata": {
        "id": "wahSvEKor5E2"
      },
      "execution_count": null,
      "outputs": []
    },
    {
      "cell_type": "markdown",
      "source": [
        "Check available tables in the database"
      ],
      "metadata": {
        "id": "pYVWXts92s7l"
      }
    },
    {
      "cell_type": "markdown",
      "source": [
        "Check columns in a table"
      ],
      "metadata": {
        "id": "euoTHh152x6Z"
      }
    },
    {
      "cell_type": "code",
      "source": [
        "# Specify the path to your Excel file\n",
        "file_path = '/content/drive/MyDrive/solubility/solubility dataset.xls'\n",
        "\n",
        "# Read the Excel file and skip the first N rows (e.g., skip the first 3 rows)\n",
        "df_sol = pd.read_excel(file_path, skiprows=9)"
      ],
      "metadata": {
        "id": "qIJZO4f11GFX"
      },
      "execution_count": null,
      "outputs": []
    },
    {
      "cell_type": "code",
      "source": [
        "print(df_sol.head())  # Display the first few rows of the DataFrame"
      ],
      "metadata": {
        "id": "pD9hZ1-Q86pw",
        "colab": {
          "base_uri": "https://localhost:8080/"
        },
        "outputId": "6d8d0f5c-d948-479d-d144-a4f590b7d204"
      },
      "execution_count": null,
      "outputs": [
        {
          "output_type": "stream",
          "name": "stdout",
          "text": [
            "           SMILES   LogS  assigned weight based on quality\n",
            "0   BrC(Br)(Br)Br -3.140                               1.0\n",
            "1       BrC(Br)Br -1.808                               1.0\n",
            "2  BrC(Br)C(Br)Br -2.732                               1.0\n",
            "3      BrC1CCCCC1 -2.294                               1.0\n",
            "4           BrCBr -1.165                               1.0\n"
          ]
        }
      ]
    },
    {
      "cell_type": "code",
      "source": [
        "print(df_sol.isnull().sum())  # Check for missing values in each column"
      ],
      "metadata": {
        "id": "jQOqd2s29IRD",
        "colab": {
          "base_uri": "https://localhost:8080/"
        },
        "outputId": "de75cc8f-57e1-4bb6-dd99-b8e2811687d5"
      },
      "execution_count": null,
      "outputs": [
        {
          "output_type": "stream",
          "name": "stdout",
          "text": [
            "SMILES                              0\n",
            "LogS                                0\n",
            "assigned weight based on quality    0\n",
            "dtype: int64\n"
          ]
        }
      ]
    },
    {
      "cell_type": "code",
      "source": [
        "print(df_sol.shape)\n"
      ],
      "metadata": {
        "id": "gbdaSvqE-xBs",
        "colab": {
          "base_uri": "https://localhost:8080/"
        },
        "outputId": "280bbfb6-11a8-4e4f-c4b5-dc76905d9426"
      },
      "execution_count": null,
      "outputs": [
        {
          "output_type": "stream",
          "name": "stdout",
          "text": [
            "(3942, 3)\n"
          ]
        }
      ]
    },
    {
      "cell_type": "markdown",
      "source": [
        "**Step 2: Extracting descriptors from Mordred**"
      ],
      "metadata": {
        "id": "_O-DRoBZDQii"
      }
    },
    {
      "cell_type": "code",
      "source": [
        "# Import necessary libraries as above\n",
        "from rdkit import Chem\n",
        "from mordred import Calculator, descriptors\n",
        "\n",
        "# DataFrame `df_sol` with a 'canonical_smiles' column\n",
        "smiles = df_sol['SMILES']\n",
        "\n",
        "# Convert SMILES strings to RDKit Molecule objects\n",
        "mols = [Chem.MolFromSmiles(s) for s in smiles]\n",
        "\n",
        "# Initialize the Mordred descriptor calculator\n",
        "calc = Calculator(descriptors, ignore_3D=True)\n",
        "\n",
        "# Calculate the descriptors and store them in a DataFrame\n",
        "df_descriptor = calc.pandas(mols)\n",
        "\n",
        "# Show the result\n",
        "df_descriptor = df_descriptor.astype(float)\n",
        "df_descriptor.dropna(axis=1, how='all', inplace = True)\n",
        "print(df_descriptor)\n"
      ],
      "metadata": {
        "id": "qD7z-ihhlF-j",
        "colab": {
          "base_uri": "https://localhost:8080/"
        },
        "outputId": "279cd7e8-c2e9-4c8d-f9df-f9eec70a9898"
      },
      "execution_count": null,
      "outputs": [
        {
          "output_type": "stream",
          "name": "stderr",
          "text": [
            "100%|██████████| 3942/3942 [06:56<00:00,  9.46it/s]\n"
          ]
        },
        {
          "output_type": "stream",
          "name": "stdout",
          "text": [
            "      nAcid  nBase    SpAbs_A   SpMax_A  SpDiam_A     SpAD_A   SpMAD_A  \\\n",
            "0       0.0    0.0   4.000000  2.000000  4.000000   4.000000  0.800000   \n",
            "1       0.0    0.0   3.464102  1.732051  3.464102   3.464102  0.866025   \n",
            "2       0.0    0.0   6.000000  2.000000  4.000000   6.000000  1.000000   \n",
            "3       0.0    0.0   8.720566  2.101003  4.202006   8.720566  1.245795   \n",
            "4       0.0    0.0   2.828427  1.414214  2.828427   2.828427  0.942809   \n",
            "...     ...    ...        ...       ...       ...        ...       ...   \n",
            "3937    0.0    0.0  10.472136  2.236068  4.472136  10.472136  1.163571   \n",
            "3938    0.0    0.0   5.226252  1.847759  3.695518   5.226252  1.045250   \n",
            "3939    0.0    0.0  22.099492  2.246980  4.493959  22.099492  1.227750   \n",
            "3940    0.0    0.0   4.472136  1.618034  3.236068   4.472136  1.118034   \n",
            "3941    0.0    0.0   4.472136  1.618034  3.236068   4.472136  1.118034   \n",
            "\n",
            "       LogEE_A     VE1_A     VE2_A  ...     SRW10     TSRW10          MW  \\\n",
            "0     2.444466  2.121320  0.424264  ...  7.625107  29.418928  327.673348   \n",
            "1     2.178059  1.931852  0.482963  ...  6.188264  24.179697  249.762836   \n",
            "2     2.610845  2.309401  0.384900  ...  7.626083  30.698690  341.688998   \n",
            "3     2.844305  2.594165  0.370595  ...  8.124151  33.544698  162.004412   \n",
            "4     1.849457  1.707107  0.569036  ...  4.174387  17.310771  171.852324   \n",
            "...        ...       ...       ...  ...       ...        ...         ...   \n",
            "3937  3.031188  2.679125  0.297681  ...  8.741456  37.303280  383.735949   \n",
            "3938  2.408576  2.130986  0.426197  ...  6.834109  27.254130  263.778486   \n",
            "3939  3.769072  4.056283  0.225349  ...  9.336709  49.982153  635.650873   \n",
            "3940  2.155909  1.946498  0.486624  ...  5.509388  22.328143  183.852324   \n",
            "3941  2.155909  1.946498  0.486624  ...  5.509388  22.328143  183.852324   \n",
            "\n",
            "            AMW  WPath  WPol  Zagreb1  Zagreb2  mZagreb1  mZagreb2  \n",
            "0     65.534670   16.0   0.0     20.0     16.0  4.062500  1.000000  \n",
            "1     49.952567    9.0   0.0     12.0      9.0  3.111111  1.000000  \n",
            "2     42.711125   29.0   4.0     22.0     21.0  4.222222  1.444444  \n",
            "3      9.000245   42.0   5.0     30.0     31.0  2.361111  1.666667  \n",
            "4     34.370465    4.0   0.0      6.0      4.0  2.250000  1.000000  \n",
            "...         ...    ...   ...      ...      ...       ...       ...  \n",
            "3937  22.572703   88.0  12.0     36.0     40.0  5.062500  2.500000  \n",
            "3938  32.972311   18.0   2.0     16.0     14.0  3.361111  1.333333  \n",
            "3939  17.656969  585.0  27.0     84.0     93.0  8.166667  4.083333  \n",
            "3940  30.642054   10.0   1.0     10.0      8.0  2.500000  1.250000  \n",
            "3941  30.642054   10.0   1.0     10.0      8.0  2.500000  1.250000  \n",
            "\n",
            "[3942 rows x 1515 columns]\n"
          ]
        }
      ]
    },
    {
      "cell_type": "markdown",
      "source": [
        "Resetting the index ensures that the DataFrame's index is a simple range starting from 0, and it makes it easier to work with"
      ],
      "metadata": {
        "id": "Bbvq62pqo6hP"
      }
    },
    {
      "cell_type": "code",
      "source": [
        "df_sol.reset_index(drop=True, inplace=True)\n",
        "df_descriptor.reset_index(drop=True, inplace=True)"
      ],
      "metadata": {
        "id": "PYbyoANioymV"
      },
      "execution_count": null,
      "outputs": []
    },
    {
      "cell_type": "markdown",
      "source": [
        "Combine descriptor dataframe to chembl solubility dataframe"
      ],
      "metadata": {
        "id": "j25-0jCWpKym"
      }
    },
    {
      "cell_type": "code",
      "source": [
        "df_sol_des = pd.concat([df_sol, df_descriptor], axis=1)"
      ],
      "metadata": {
        "id": "guhai718pmN7"
      },
      "execution_count": null,
      "outputs": []
    },
    {
      "cell_type": "markdown",
      "source": [
        "Check how many rows and columns"
      ],
      "metadata": {
        "id": "jwPjaee_psZO"
      }
    },
    {
      "cell_type": "code",
      "source": [
        "print(len(df_sol_des), len(df_sol_des.columns))"
      ],
      "metadata": {
        "id": "S8JgJiDhpxTY",
        "colab": {
          "base_uri": "https://localhost:8080/"
        },
        "outputId": "479f442a-3274-4ed8-b59e-d86acbd980cf"
      },
      "execution_count": null,
      "outputs": [
        {
          "output_type": "stream",
          "name": "stdout",
          "text": [
            "3942 1518\n"
          ]
        }
      ]
    },
    {
      "cell_type": "markdown",
      "source": [
        "Take a look into the combined dataset"
      ],
      "metadata": {
        "id": "XY_71bKnr56U"
      }
    },
    {
      "cell_type": "code",
      "source": [
        "df_sol_des"
      ],
      "metadata": {
        "id": "rumUp2mc8FbB",
        "colab": {
          "base_uri": "https://localhost:8080/",
          "height": 495
        },
        "outputId": "d9e2b803-c616-4e9a-c4bd-95a5c610775a"
      },
      "execution_count": null,
      "outputs": [
        {
          "output_type": "execute_result",
          "data": {
            "text/plain": [
              "                                  SMILES   LogS  \\\n",
              "0                          BrC(Br)(Br)Br -3.140   \n",
              "1                              BrC(Br)Br -1.808   \n",
              "2                         BrC(Br)C(Br)Br -2.732   \n",
              "3                             BrC1CCCCC1 -2.294   \n",
              "4                                  BrCBr -1.165   \n",
              "...                                  ...    ...   \n",
              "3937                   BrCC(CBr)(CBr)CBr -5.380   \n",
              "3938                          BrCC(Br)Br -2.730   \n",
              "3939  BrC1CCC(Br)C(Br)CCC(Br)C(Br)CCC1Br -7.870   \n",
              "3940                           Br/C=C\\Br -1.390   \n",
              "3941                           Br/C=C/Br -1.320   \n",
              "\n",
              "      assigned weight based on quality  nAcid  nBase    SpAbs_A   SpMax_A  \\\n",
              "0                                1.000    0.0    0.0   4.000000  2.000000   \n",
              "1                                1.000    0.0    0.0   3.464102  1.732051   \n",
              "2                                1.000    0.0    0.0   6.000000  2.000000   \n",
              "3                                1.000    0.0    0.0   8.720566  2.101003   \n",
              "4                                1.000    0.0    0.0   2.828427  1.414214   \n",
              "...                                ...    ...    ...        ...       ...   \n",
              "3937                             0.425    0.0    0.0  10.472136  2.236068   \n",
              "3938                             0.425    0.0    0.0   5.226252  1.847759   \n",
              "3939                             0.425    0.0    0.0  22.099492  2.246980   \n",
              "3940                             0.425    0.0    0.0   4.472136  1.618034   \n",
              "3941                             0.425    0.0    0.0   4.472136  1.618034   \n",
              "\n",
              "      SpDiam_A     SpAD_A   SpMAD_A  ...     SRW10     TSRW10          MW  \\\n",
              "0     4.000000   4.000000  0.800000  ...  7.625107  29.418928  327.673348   \n",
              "1     3.464102   3.464102  0.866025  ...  6.188264  24.179697  249.762836   \n",
              "2     4.000000   6.000000  1.000000  ...  7.626083  30.698690  341.688998   \n",
              "3     4.202006   8.720566  1.245795  ...  8.124151  33.544698  162.004412   \n",
              "4     2.828427   2.828427  0.942809  ...  4.174387  17.310771  171.852324   \n",
              "...        ...        ...       ...  ...       ...        ...         ...   \n",
              "3937  4.472136  10.472136  1.163571  ...  8.741456  37.303280  383.735949   \n",
              "3938  3.695518   5.226252  1.045250  ...  6.834109  27.254130  263.778486   \n",
              "3939  4.493959  22.099492  1.227750  ...  9.336709  49.982153  635.650873   \n",
              "3940  3.236068   4.472136  1.118034  ...  5.509388  22.328143  183.852324   \n",
              "3941  3.236068   4.472136  1.118034  ...  5.509388  22.328143  183.852324   \n",
              "\n",
              "            AMW  WPath  WPol  Zagreb1  Zagreb2  mZagreb1  mZagreb2  \n",
              "0     65.534670   16.0   0.0     20.0     16.0  4.062500  1.000000  \n",
              "1     49.952567    9.0   0.0     12.0      9.0  3.111111  1.000000  \n",
              "2     42.711125   29.0   4.0     22.0     21.0  4.222222  1.444444  \n",
              "3      9.000245   42.0   5.0     30.0     31.0  2.361111  1.666667  \n",
              "4     34.370465    4.0   0.0      6.0      4.0  2.250000  1.000000  \n",
              "...         ...    ...   ...      ...      ...       ...       ...  \n",
              "3937  22.572703   88.0  12.0     36.0     40.0  5.062500  2.500000  \n",
              "3938  32.972311   18.0   2.0     16.0     14.0  3.361111  1.333333  \n",
              "3939  17.656969  585.0  27.0     84.0     93.0  8.166667  4.083333  \n",
              "3940  30.642054   10.0   1.0     10.0      8.0  2.500000  1.250000  \n",
              "3941  30.642054   10.0   1.0     10.0      8.0  2.500000  1.250000  \n",
              "\n",
              "[3942 rows x 1518 columns]"
            ],
            "text/html": [
              "\n",
              "  <div id=\"df-e8181b09-92ba-4a51-a0f9-c36ec46bc813\" class=\"colab-df-container\">\n",
              "    <div>\n",
              "<style scoped>\n",
              "    .dataframe tbody tr th:only-of-type {\n",
              "        vertical-align: middle;\n",
              "    }\n",
              "\n",
              "    .dataframe tbody tr th {\n",
              "        vertical-align: top;\n",
              "    }\n",
              "\n",
              "    .dataframe thead th {\n",
              "        text-align: right;\n",
              "    }\n",
              "</style>\n",
              "<table border=\"1\" class=\"dataframe\">\n",
              "  <thead>\n",
              "    <tr style=\"text-align: right;\">\n",
              "      <th></th>\n",
              "      <th>SMILES</th>\n",
              "      <th>LogS</th>\n",
              "      <th>assigned weight based on quality</th>\n",
              "      <th>nAcid</th>\n",
              "      <th>nBase</th>\n",
              "      <th>SpAbs_A</th>\n",
              "      <th>SpMax_A</th>\n",
              "      <th>SpDiam_A</th>\n",
              "      <th>SpAD_A</th>\n",
              "      <th>SpMAD_A</th>\n",
              "      <th>...</th>\n",
              "      <th>SRW10</th>\n",
              "      <th>TSRW10</th>\n",
              "      <th>MW</th>\n",
              "      <th>AMW</th>\n",
              "      <th>WPath</th>\n",
              "      <th>WPol</th>\n",
              "      <th>Zagreb1</th>\n",
              "      <th>Zagreb2</th>\n",
              "      <th>mZagreb1</th>\n",
              "      <th>mZagreb2</th>\n",
              "    </tr>\n",
              "  </thead>\n",
              "  <tbody>\n",
              "    <tr>\n",
              "      <th>0</th>\n",
              "      <td>BrC(Br)(Br)Br</td>\n",
              "      <td>-3.140</td>\n",
              "      <td>1.000</td>\n",
              "      <td>0.0</td>\n",
              "      <td>0.0</td>\n",
              "      <td>4.000000</td>\n",
              "      <td>2.000000</td>\n",
              "      <td>4.000000</td>\n",
              "      <td>4.000000</td>\n",
              "      <td>0.800000</td>\n",
              "      <td>...</td>\n",
              "      <td>7.625107</td>\n",
              "      <td>29.418928</td>\n",
              "      <td>327.673348</td>\n",
              "      <td>65.534670</td>\n",
              "      <td>16.0</td>\n",
              "      <td>0.0</td>\n",
              "      <td>20.0</td>\n",
              "      <td>16.0</td>\n",
              "      <td>4.062500</td>\n",
              "      <td>1.000000</td>\n",
              "    </tr>\n",
              "    <tr>\n",
              "      <th>1</th>\n",
              "      <td>BrC(Br)Br</td>\n",
              "      <td>-1.808</td>\n",
              "      <td>1.000</td>\n",
              "      <td>0.0</td>\n",
              "      <td>0.0</td>\n",
              "      <td>3.464102</td>\n",
              "      <td>1.732051</td>\n",
              "      <td>3.464102</td>\n",
              "      <td>3.464102</td>\n",
              "      <td>0.866025</td>\n",
              "      <td>...</td>\n",
              "      <td>6.188264</td>\n",
              "      <td>24.179697</td>\n",
              "      <td>249.762836</td>\n",
              "      <td>49.952567</td>\n",
              "      <td>9.0</td>\n",
              "      <td>0.0</td>\n",
              "      <td>12.0</td>\n",
              "      <td>9.0</td>\n",
              "      <td>3.111111</td>\n",
              "      <td>1.000000</td>\n",
              "    </tr>\n",
              "    <tr>\n",
              "      <th>2</th>\n",
              "      <td>BrC(Br)C(Br)Br</td>\n",
              "      <td>-2.732</td>\n",
              "      <td>1.000</td>\n",
              "      <td>0.0</td>\n",
              "      <td>0.0</td>\n",
              "      <td>6.000000</td>\n",
              "      <td>2.000000</td>\n",
              "      <td>4.000000</td>\n",
              "      <td>6.000000</td>\n",
              "      <td>1.000000</td>\n",
              "      <td>...</td>\n",
              "      <td>7.626083</td>\n",
              "      <td>30.698690</td>\n",
              "      <td>341.688998</td>\n",
              "      <td>42.711125</td>\n",
              "      <td>29.0</td>\n",
              "      <td>4.0</td>\n",
              "      <td>22.0</td>\n",
              "      <td>21.0</td>\n",
              "      <td>4.222222</td>\n",
              "      <td>1.444444</td>\n",
              "    </tr>\n",
              "    <tr>\n",
              "      <th>3</th>\n",
              "      <td>BrC1CCCCC1</td>\n",
              "      <td>-2.294</td>\n",
              "      <td>1.000</td>\n",
              "      <td>0.0</td>\n",
              "      <td>0.0</td>\n",
              "      <td>8.720566</td>\n",
              "      <td>2.101003</td>\n",
              "      <td>4.202006</td>\n",
              "      <td>8.720566</td>\n",
              "      <td>1.245795</td>\n",
              "      <td>...</td>\n",
              "      <td>8.124151</td>\n",
              "      <td>33.544698</td>\n",
              "      <td>162.004412</td>\n",
              "      <td>9.000245</td>\n",
              "      <td>42.0</td>\n",
              "      <td>5.0</td>\n",
              "      <td>30.0</td>\n",
              "      <td>31.0</td>\n",
              "      <td>2.361111</td>\n",
              "      <td>1.666667</td>\n",
              "    </tr>\n",
              "    <tr>\n",
              "      <th>4</th>\n",
              "      <td>BrCBr</td>\n",
              "      <td>-1.165</td>\n",
              "      <td>1.000</td>\n",
              "      <td>0.0</td>\n",
              "      <td>0.0</td>\n",
              "      <td>2.828427</td>\n",
              "      <td>1.414214</td>\n",
              "      <td>2.828427</td>\n",
              "      <td>2.828427</td>\n",
              "      <td>0.942809</td>\n",
              "      <td>...</td>\n",
              "      <td>4.174387</td>\n",
              "      <td>17.310771</td>\n",
              "      <td>171.852324</td>\n",
              "      <td>34.370465</td>\n",
              "      <td>4.0</td>\n",
              "      <td>0.0</td>\n",
              "      <td>6.0</td>\n",
              "      <td>4.0</td>\n",
              "      <td>2.250000</td>\n",
              "      <td>1.000000</td>\n",
              "    </tr>\n",
              "    <tr>\n",
              "      <th>...</th>\n",
              "      <td>...</td>\n",
              "      <td>...</td>\n",
              "      <td>...</td>\n",
              "      <td>...</td>\n",
              "      <td>...</td>\n",
              "      <td>...</td>\n",
              "      <td>...</td>\n",
              "      <td>...</td>\n",
              "      <td>...</td>\n",
              "      <td>...</td>\n",
              "      <td>...</td>\n",
              "      <td>...</td>\n",
              "      <td>...</td>\n",
              "      <td>...</td>\n",
              "      <td>...</td>\n",
              "      <td>...</td>\n",
              "      <td>...</td>\n",
              "      <td>...</td>\n",
              "      <td>...</td>\n",
              "      <td>...</td>\n",
              "      <td>...</td>\n",
              "    </tr>\n",
              "    <tr>\n",
              "      <th>3937</th>\n",
              "      <td>BrCC(CBr)(CBr)CBr</td>\n",
              "      <td>-5.380</td>\n",
              "      <td>0.425</td>\n",
              "      <td>0.0</td>\n",
              "      <td>0.0</td>\n",
              "      <td>10.472136</td>\n",
              "      <td>2.236068</td>\n",
              "      <td>4.472136</td>\n",
              "      <td>10.472136</td>\n",
              "      <td>1.163571</td>\n",
              "      <td>...</td>\n",
              "      <td>8.741456</td>\n",
              "      <td>37.303280</td>\n",
              "      <td>383.735949</td>\n",
              "      <td>22.572703</td>\n",
              "      <td>88.0</td>\n",
              "      <td>12.0</td>\n",
              "      <td>36.0</td>\n",
              "      <td>40.0</td>\n",
              "      <td>5.062500</td>\n",
              "      <td>2.500000</td>\n",
              "    </tr>\n",
              "    <tr>\n",
              "      <th>3938</th>\n",
              "      <td>BrCC(Br)Br</td>\n",
              "      <td>-2.730</td>\n",
              "      <td>0.425</td>\n",
              "      <td>0.0</td>\n",
              "      <td>0.0</td>\n",
              "      <td>5.226252</td>\n",
              "      <td>1.847759</td>\n",
              "      <td>3.695518</td>\n",
              "      <td>5.226252</td>\n",
              "      <td>1.045250</td>\n",
              "      <td>...</td>\n",
              "      <td>6.834109</td>\n",
              "      <td>27.254130</td>\n",
              "      <td>263.778486</td>\n",
              "      <td>32.972311</td>\n",
              "      <td>18.0</td>\n",
              "      <td>2.0</td>\n",
              "      <td>16.0</td>\n",
              "      <td>14.0</td>\n",
              "      <td>3.361111</td>\n",
              "      <td>1.333333</td>\n",
              "    </tr>\n",
              "    <tr>\n",
              "      <th>3939</th>\n",
              "      <td>BrC1CCC(Br)C(Br)CCC(Br)C(Br)CCC1Br</td>\n",
              "      <td>-7.870</td>\n",
              "      <td>0.425</td>\n",
              "      <td>0.0</td>\n",
              "      <td>0.0</td>\n",
              "      <td>22.099492</td>\n",
              "      <td>2.246980</td>\n",
              "      <td>4.493959</td>\n",
              "      <td>22.099492</td>\n",
              "      <td>1.227750</td>\n",
              "      <td>...</td>\n",
              "      <td>9.336709</td>\n",
              "      <td>49.982153</td>\n",
              "      <td>635.650873</td>\n",
              "      <td>17.656969</td>\n",
              "      <td>585.0</td>\n",
              "      <td>27.0</td>\n",
              "      <td>84.0</td>\n",
              "      <td>93.0</td>\n",
              "      <td>8.166667</td>\n",
              "      <td>4.083333</td>\n",
              "    </tr>\n",
              "    <tr>\n",
              "      <th>3940</th>\n",
              "      <td>Br/C=C\\Br</td>\n",
              "      <td>-1.390</td>\n",
              "      <td>0.425</td>\n",
              "      <td>0.0</td>\n",
              "      <td>0.0</td>\n",
              "      <td>4.472136</td>\n",
              "      <td>1.618034</td>\n",
              "      <td>3.236068</td>\n",
              "      <td>4.472136</td>\n",
              "      <td>1.118034</td>\n",
              "      <td>...</td>\n",
              "      <td>5.509388</td>\n",
              "      <td>22.328143</td>\n",
              "      <td>183.852324</td>\n",
              "      <td>30.642054</td>\n",
              "      <td>10.0</td>\n",
              "      <td>1.0</td>\n",
              "      <td>10.0</td>\n",
              "      <td>8.0</td>\n",
              "      <td>2.500000</td>\n",
              "      <td>1.250000</td>\n",
              "    </tr>\n",
              "    <tr>\n",
              "      <th>3941</th>\n",
              "      <td>Br/C=C/Br</td>\n",
              "      <td>-1.320</td>\n",
              "      <td>0.425</td>\n",
              "      <td>0.0</td>\n",
              "      <td>0.0</td>\n",
              "      <td>4.472136</td>\n",
              "      <td>1.618034</td>\n",
              "      <td>3.236068</td>\n",
              "      <td>4.472136</td>\n",
              "      <td>1.118034</td>\n",
              "      <td>...</td>\n",
              "      <td>5.509388</td>\n",
              "      <td>22.328143</td>\n",
              "      <td>183.852324</td>\n",
              "      <td>30.642054</td>\n",
              "      <td>10.0</td>\n",
              "      <td>1.0</td>\n",
              "      <td>10.0</td>\n",
              "      <td>8.0</td>\n",
              "      <td>2.500000</td>\n",
              "      <td>1.250000</td>\n",
              "    </tr>\n",
              "  </tbody>\n",
              "</table>\n",
              "<p>3942 rows × 1518 columns</p>\n",
              "</div>\n",
              "    <div class=\"colab-df-buttons\">\n",
              "\n",
              "  <div class=\"colab-df-container\">\n",
              "    <button class=\"colab-df-convert\" onclick=\"convertToInteractive('df-e8181b09-92ba-4a51-a0f9-c36ec46bc813')\"\n",
              "            title=\"Convert this dataframe to an interactive table.\"\n",
              "            style=\"display:none;\">\n",
              "\n",
              "  <svg xmlns=\"http://www.w3.org/2000/svg\" height=\"24px\" viewBox=\"0 -960 960 960\">\n",
              "    <path d=\"M120-120v-720h720v720H120Zm60-500h600v-160H180v160Zm220 220h160v-160H400v160Zm0 220h160v-160H400v160ZM180-400h160v-160H180v160Zm440 0h160v-160H620v160ZM180-180h160v-160H180v160Zm440 0h160v-160H620v160Z\"/>\n",
              "  </svg>\n",
              "    </button>\n",
              "\n",
              "  <style>\n",
              "    .colab-df-container {\n",
              "      display:flex;\n",
              "      gap: 12px;\n",
              "    }\n",
              "\n",
              "    .colab-df-convert {\n",
              "      background-color: #E8F0FE;\n",
              "      border: none;\n",
              "      border-radius: 50%;\n",
              "      cursor: pointer;\n",
              "      display: none;\n",
              "      fill: #1967D2;\n",
              "      height: 32px;\n",
              "      padding: 0 0 0 0;\n",
              "      width: 32px;\n",
              "    }\n",
              "\n",
              "    .colab-df-convert:hover {\n",
              "      background-color: #E2EBFA;\n",
              "      box-shadow: 0px 1px 2px rgba(60, 64, 67, 0.3), 0px 1px 3px 1px rgba(60, 64, 67, 0.15);\n",
              "      fill: #174EA6;\n",
              "    }\n",
              "\n",
              "    .colab-df-buttons div {\n",
              "      margin-bottom: 4px;\n",
              "    }\n",
              "\n",
              "    [theme=dark] .colab-df-convert {\n",
              "      background-color: #3B4455;\n",
              "      fill: #D2E3FC;\n",
              "    }\n",
              "\n",
              "    [theme=dark] .colab-df-convert:hover {\n",
              "      background-color: #434B5C;\n",
              "      box-shadow: 0px 1px 3px 1px rgba(0, 0, 0, 0.15);\n",
              "      filter: drop-shadow(0px 1px 2px rgba(0, 0, 0, 0.3));\n",
              "      fill: #FFFFFF;\n",
              "    }\n",
              "  </style>\n",
              "\n",
              "    <script>\n",
              "      const buttonEl =\n",
              "        document.querySelector('#df-e8181b09-92ba-4a51-a0f9-c36ec46bc813 button.colab-df-convert');\n",
              "      buttonEl.style.display =\n",
              "        google.colab.kernel.accessAllowed ? 'block' : 'none';\n",
              "\n",
              "      async function convertToInteractive(key) {\n",
              "        const element = document.querySelector('#df-e8181b09-92ba-4a51-a0f9-c36ec46bc813');\n",
              "        const dataTable =\n",
              "          await google.colab.kernel.invokeFunction('convertToInteractive',\n",
              "                                                    [key], {});\n",
              "        if (!dataTable) return;\n",
              "\n",
              "        const docLinkHtml = 'Like what you see? Visit the ' +\n",
              "          '<a target=\"_blank\" href=https://colab.research.google.com/notebooks/data_table.ipynb>data table notebook</a>'\n",
              "          + ' to learn more about interactive tables.';\n",
              "        element.innerHTML = '';\n",
              "        dataTable['output_type'] = 'display_data';\n",
              "        await google.colab.output.renderOutput(dataTable, element);\n",
              "        const docLink = document.createElement('div');\n",
              "        docLink.innerHTML = docLinkHtml;\n",
              "        element.appendChild(docLink);\n",
              "      }\n",
              "    </script>\n",
              "  </div>\n",
              "\n",
              "\n",
              "<div id=\"df-09a3d6d7-427c-46de-9529-f2b220b75ab1\">\n",
              "  <button class=\"colab-df-quickchart\" onclick=\"quickchart('df-09a3d6d7-427c-46de-9529-f2b220b75ab1')\"\n",
              "            title=\"Suggest charts\"\n",
              "            style=\"display:none;\">\n",
              "\n",
              "<svg xmlns=\"http://www.w3.org/2000/svg\" height=\"24px\"viewBox=\"0 0 24 24\"\n",
              "     width=\"24px\">\n",
              "    <g>\n",
              "        <path d=\"M19 3H5c-1.1 0-2 .9-2 2v14c0 1.1.9 2 2 2h14c1.1 0 2-.9 2-2V5c0-1.1-.9-2-2-2zM9 17H7v-7h2v7zm4 0h-2V7h2v10zm4 0h-2v-4h2v4z\"/>\n",
              "    </g>\n",
              "</svg>\n",
              "  </button>\n",
              "\n",
              "<style>\n",
              "  .colab-df-quickchart {\n",
              "      --bg-color: #E8F0FE;\n",
              "      --fill-color: #1967D2;\n",
              "      --hover-bg-color: #E2EBFA;\n",
              "      --hover-fill-color: #174EA6;\n",
              "      --disabled-fill-color: #AAA;\n",
              "      --disabled-bg-color: #DDD;\n",
              "  }\n",
              "\n",
              "  [theme=dark] .colab-df-quickchart {\n",
              "      --bg-color: #3B4455;\n",
              "      --fill-color: #D2E3FC;\n",
              "      --hover-bg-color: #434B5C;\n",
              "      --hover-fill-color: #FFFFFF;\n",
              "      --disabled-bg-color: #3B4455;\n",
              "      --disabled-fill-color: #666;\n",
              "  }\n",
              "\n",
              "  .colab-df-quickchart {\n",
              "    background-color: var(--bg-color);\n",
              "    border: none;\n",
              "    border-radius: 50%;\n",
              "    cursor: pointer;\n",
              "    display: none;\n",
              "    fill: var(--fill-color);\n",
              "    height: 32px;\n",
              "    padding: 0;\n",
              "    width: 32px;\n",
              "  }\n",
              "\n",
              "  .colab-df-quickchart:hover {\n",
              "    background-color: var(--hover-bg-color);\n",
              "    box-shadow: 0 1px 2px rgba(60, 64, 67, 0.3), 0 1px 3px 1px rgba(60, 64, 67, 0.15);\n",
              "    fill: var(--button-hover-fill-color);\n",
              "  }\n",
              "\n",
              "  .colab-df-quickchart-complete:disabled,\n",
              "  .colab-df-quickchart-complete:disabled:hover {\n",
              "    background-color: var(--disabled-bg-color);\n",
              "    fill: var(--disabled-fill-color);\n",
              "    box-shadow: none;\n",
              "  }\n",
              "\n",
              "  .colab-df-spinner {\n",
              "    border: 2px solid var(--fill-color);\n",
              "    border-color: transparent;\n",
              "    border-bottom-color: var(--fill-color);\n",
              "    animation:\n",
              "      spin 1s steps(1) infinite;\n",
              "  }\n",
              "\n",
              "  @keyframes spin {\n",
              "    0% {\n",
              "      border-color: transparent;\n",
              "      border-bottom-color: var(--fill-color);\n",
              "      border-left-color: var(--fill-color);\n",
              "    }\n",
              "    20% {\n",
              "      border-color: transparent;\n",
              "      border-left-color: var(--fill-color);\n",
              "      border-top-color: var(--fill-color);\n",
              "    }\n",
              "    30% {\n",
              "      border-color: transparent;\n",
              "      border-left-color: var(--fill-color);\n",
              "      border-top-color: var(--fill-color);\n",
              "      border-right-color: var(--fill-color);\n",
              "    }\n",
              "    40% {\n",
              "      border-color: transparent;\n",
              "      border-right-color: var(--fill-color);\n",
              "      border-top-color: var(--fill-color);\n",
              "    }\n",
              "    60% {\n",
              "      border-color: transparent;\n",
              "      border-right-color: var(--fill-color);\n",
              "    }\n",
              "    80% {\n",
              "      border-color: transparent;\n",
              "      border-right-color: var(--fill-color);\n",
              "      border-bottom-color: var(--fill-color);\n",
              "    }\n",
              "    90% {\n",
              "      border-color: transparent;\n",
              "      border-bottom-color: var(--fill-color);\n",
              "    }\n",
              "  }\n",
              "</style>\n",
              "\n",
              "  <script>\n",
              "    async function quickchart(key) {\n",
              "      const quickchartButtonEl =\n",
              "        document.querySelector('#' + key + ' button');\n",
              "      quickchartButtonEl.disabled = true;  // To prevent multiple clicks.\n",
              "      quickchartButtonEl.classList.add('colab-df-spinner');\n",
              "      try {\n",
              "        const charts = await google.colab.kernel.invokeFunction(\n",
              "            'suggestCharts', [key], {});\n",
              "      } catch (error) {\n",
              "        console.error('Error during call to suggestCharts:', error);\n",
              "      }\n",
              "      quickchartButtonEl.classList.remove('colab-df-spinner');\n",
              "      quickchartButtonEl.classList.add('colab-df-quickchart-complete');\n",
              "    }\n",
              "    (() => {\n",
              "      let quickchartButtonEl =\n",
              "        document.querySelector('#df-09a3d6d7-427c-46de-9529-f2b220b75ab1 button');\n",
              "      quickchartButtonEl.style.display =\n",
              "        google.colab.kernel.accessAllowed ? 'block' : 'none';\n",
              "    })();\n",
              "  </script>\n",
              "</div>\n",
              "\n",
              "  <div id=\"id_eba53a26-9555-4dd3-b5a4-1016de88fb34\">\n",
              "    <style>\n",
              "      .colab-df-generate {\n",
              "        background-color: #E8F0FE;\n",
              "        border: none;\n",
              "        border-radius: 50%;\n",
              "        cursor: pointer;\n",
              "        display: none;\n",
              "        fill: #1967D2;\n",
              "        height: 32px;\n",
              "        padding: 0 0 0 0;\n",
              "        width: 32px;\n",
              "      }\n",
              "\n",
              "      .colab-df-generate:hover {\n",
              "        background-color: #E2EBFA;\n",
              "        box-shadow: 0px 1px 2px rgba(60, 64, 67, 0.3), 0px 1px 3px 1px rgba(60, 64, 67, 0.15);\n",
              "        fill: #174EA6;\n",
              "      }\n",
              "\n",
              "      [theme=dark] .colab-df-generate {\n",
              "        background-color: #3B4455;\n",
              "        fill: #D2E3FC;\n",
              "      }\n",
              "\n",
              "      [theme=dark] .colab-df-generate:hover {\n",
              "        background-color: #434B5C;\n",
              "        box-shadow: 0px 1px 3px 1px rgba(0, 0, 0, 0.15);\n",
              "        filter: drop-shadow(0px 1px 2px rgba(0, 0, 0, 0.3));\n",
              "        fill: #FFFFFF;\n",
              "      }\n",
              "    </style>\n",
              "    <button class=\"colab-df-generate\" onclick=\"generateWithVariable('df_sol_des')\"\n",
              "            title=\"Generate code using this dataframe.\"\n",
              "            style=\"display:none;\">\n",
              "\n",
              "  <svg xmlns=\"http://www.w3.org/2000/svg\" height=\"24px\"viewBox=\"0 0 24 24\"\n",
              "       width=\"24px\">\n",
              "    <path d=\"M7,19H8.4L18.45,9,17,7.55,7,17.6ZM5,21V16.75L18.45,3.32a2,2,0,0,1,2.83,0l1.4,1.43a1.91,1.91,0,0,1,.58,1.4,1.91,1.91,0,0,1-.58,1.4L9.25,21ZM18.45,9,17,7.55Zm-12,3A5.31,5.31,0,0,0,4.9,8.1,5.31,5.31,0,0,0,1,6.5,5.31,5.31,0,0,0,4.9,4.9,5.31,5.31,0,0,0,6.5,1,5.31,5.31,0,0,0,8.1,4.9,5.31,5.31,0,0,0,12,6.5,5.46,5.46,0,0,0,6.5,12Z\"/>\n",
              "  </svg>\n",
              "    </button>\n",
              "    <script>\n",
              "      (() => {\n",
              "      const buttonEl =\n",
              "        document.querySelector('#id_eba53a26-9555-4dd3-b5a4-1016de88fb34 button.colab-df-generate');\n",
              "      buttonEl.style.display =\n",
              "        google.colab.kernel.accessAllowed ? 'block' : 'none';\n",
              "\n",
              "      buttonEl.onclick = () => {\n",
              "        google.colab.notebook.generateWithVariable('df_sol_des');\n",
              "      }\n",
              "      })();\n",
              "    </script>\n",
              "  </div>\n",
              "\n",
              "    </div>\n",
              "  </div>\n"
            ],
            "application/vnd.google.colaboratory.intrinsic+json": {
              "type": "dataframe",
              "variable_name": "df_sol_des"
            }
          },
          "metadata": {},
          "execution_count": 22
        }
      ]
    },
    {
      "cell_type": "markdown",
      "source": [
        "We need to convert ug/mL to nM to have singe similar unit"
      ],
      "metadata": {
        "id": "Pk2M-_RdHhTP"
      }
    },
    {
      "cell_type": "code",
      "source": [
        "f,axs = plt.subplots(1,2,figsize=(10,3))\n",
        "axs[0].hist(df_sol_des ['LogS'])\n",
        "axs[0].set_xlabel('Aqueous solubility (logS)')\n",
        "axs[0].set_ylabel('count')\n",
        "axs[1].boxplot(df_sol_des ['LogS'])\n",
        "axs[1].set_ylabel('Aqueous solubility (LogS)')"
      ],
      "metadata": {
        "id": "M_8jsuNBCNuh",
        "colab": {
          "base_uri": "https://localhost:8080/",
          "height": 330
        },
        "outputId": "760a4e48-f737-432d-ff25-5199984cda6b"
      },
      "execution_count": null,
      "outputs": [
        {
          "output_type": "execute_result",
          "data": {
            "text/plain": [
              "Text(0, 0.5, 'Aqueous solubility (LogS)')"
            ]
          },
          "metadata": {},
          "execution_count": 23
        },
        {
          "output_type": "display_data",
          "data": {
            "text/plain": [
              "<Figure size 1000x300 with 2 Axes>"
            ],
            "image/png": "[encoded data removed]"
          },
          "metadata": {}
        }
      ]
    },
    {
      "cell_type": "code",
      "source": [
        "# Define the path to Google Drive (make sure the folder exists)\n",
        "file_path = '/content/drive/MyDrive/solubility/sol_des_clean.zip'\n",
        "\n",
        "# Set compression options for saving the DataFrame as a .zip file\n",
        "compression_opts = dict(method='zip', archive_name='sol_des_clean.csv')\n",
        "\n",
        "# Save the DataFrame as a compressed .zip file in Google Drive\n",
        "df_sol_des.to_csv(file_path, index=False, compression=compression_opts)"
      ],
      "metadata": {
        "id": "ObuEK3Dur9-Y"
      },
      "execution_count": null,
      "outputs": []
    }
  ]
}
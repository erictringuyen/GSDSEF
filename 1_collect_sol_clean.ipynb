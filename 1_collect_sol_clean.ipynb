{
  "nbformat": 4,
  "nbformat_minor": 0,
  "metadata": {
    "colab": {
      "provenance": []
    },
    "kernelspec": {
      "name": "python3",
      "display_name": "Python 3"
    },
    "language_info": {
      "name": "python"
    }
  },
  "cells": [
    {
      "cell_type": "code",
      "execution_count": null,
      "metadata": {
        "id": "lXDzNFUsYHGd",
        "collapsed": true
      },
      "outputs": [],
      "source": [
        "pip install chembl_webresource_client mordred numpy pandas scikit-learn matplotlib rdkit"
      ]
    },
    {
      "cell_type": "code",
      "source": [
        "import numpy as np\n",
        "import sqlite3\n",
        "import pandas as pd\n",
        "import matplotlib.pyplot as plt\n",
        "import sys"
      ],
      "metadata": {
        "id": "EhKhdaShahs3"
      },
      "execution_count": null,
      "outputs": []
    },
    {
      "cell_type": "code",
      "source": [
        "from google.colab import drive\n",
        "drive.mount('/content/drive')"
      ],
      "metadata": {
        "id": "wahSvEKor5E2"
      },
      "execution_count": null,
      "outputs": []
    },
    {
      "cell_type": "markdown",
      "source": [
        "**Step 1: Read the solubility dataset and check columns in a table**"
      ],
      "metadata": {
        "id": "euoTHh152x6Z"
      }
    },
    {
      "cell_type": "code",
      "source": [
        "# Specify the path to Excel file\n",
        "file_path = '/content/drive/MyDrive/solubility/solubility dataset.xls'\n",
        "# Read the Excel file and skip the first N rows (e.g., skip the first 3 rows)\n",
        "df_sol = pd.read_excel(file_path, skiprows=9)"
      ],
      "metadata": {
        "id": "qIJZO4f11GFX"
      },
      "execution_count": null,
      "outputs": []
    },
    {
      "cell_type": "code",
      "source": [
        "print(df_sol.head())  # Display the first few rows of the DataFrame"
      ],
      "metadata": {
        "id": "pD9hZ1-Q86pw"
      },
      "execution_count": null,
      "outputs": []
    },
    {
      "cell_type": "code",
      "source": [
        "print(df_sol.isnull().sum())  # Check for missing values in each column"
      ],
      "metadata": {
        "id": "jQOqd2s29IRD"
      },
      "execution_count": null,
      "outputs": []
    },
    {
      "cell_type": "code",
      "source": [
        "print(df_sol.shape)\n"
      ],
      "metadata": {
        "id": "gbdaSvqE-xBs"
      },
      "execution_count": null,
      "outputs": []
    },
    {
      "cell_type": "markdown",
      "source": [
        "**Step 2: Calculating descriptors using Mordred**"
      ],
      "metadata": {
        "id": "_O-DRoBZDQii"
      }
    },
    {
      "cell_type": "code",
      "source": [
        "# Import necessary libraries as above\n",
        "from rdkit import Chem\n",
        "from mordred import Calculator, descriptors\n",
        "\n",
        "# DataFrame `df_sol` with a 'canonical_smiles' column\n",
        "smiles = df_sol['SMILES']\n",
        "\n",
        "# Convert SMILES strings to RDKit Molecule objects\n",
        "mols = [Chem.MolFromSmiles(s) for s in smiles]\n",
        "\n",
        "# Initialize the Mordred descriptor calculator\n",
        "calc = Calculator(descriptors, ignore_3D=True)\n",
        "\n",
        "# Calculate the descriptors and store them in a DataFrame\n",
        "df_descriptor = calc.pandas(mols)\n",
        "\n",
        "# Show the result\n",
        "df_descriptor = df_descriptor.astype(float)\n",
        "df_descriptor.dropna(axis=1, how='all', inplace = True)\n",
        "print(df_descriptor)\n"
      ],
      "metadata": {
        "id": "qD7z-ihhlF-j"
      },
      "execution_count": null,
      "outputs": []
    },
    {
      "cell_type": "markdown",
      "source": [
        "Resetting the index ensures that the DataFrame's index is a simple range starting from 0"
      ],
      "metadata": {
        "id": "Bbvq62pqo6hP"
      }
    },
    {
      "cell_type": "code",
      "source": [
        "df_sol.reset_index(drop=True, inplace=True)\n",
        "df_descriptor.reset_index(drop=True, inplace=True)"
      ],
      "metadata": {
        "id": "PYbyoANioymV"
      },
      "execution_count": null,
      "outputs": []
    },
    {
      "cell_type": "markdown",
      "source": [
        "**Step 3: Combine descriptor dataframe with solubility dataset**"
      ],
      "metadata": {
        "id": "j25-0jCWpKym"
      }
    },
    {
      "cell_type": "code",
      "source": [
        "df_sol_des = pd.concat([df_sol, df_descriptor], axis=1)"
      ],
      "metadata": {
        "id": "guhai718pmN7"
      },
      "execution_count": null,
      "outputs": []
    },
    {
      "cell_type": "markdown",
      "source": [
        "Check how many rows and columns"
      ],
      "metadata": {
        "id": "jwPjaee_psZO"
      }
    },
    {
      "cell_type": "code",
      "source": [
        "print(len(df_sol_des), len(df_sol_des.columns))"
      ],
      "metadata": {
        "id": "S8JgJiDhpxTY"
      },
      "execution_count": null,
      "outputs": []
    },
    {
      "cell_type": "markdown",
      "source": [
        "Take a look into the combined dataset"
      ],
      "metadata": {
        "id": "XY_71bKnr56U"
      }
    },
    {
      "cell_type": "code",
      "source": [
        "df_sol_des"
      ],
      "metadata": {
        "id": "rumUp2mc8FbB"
      },
      "execution_count": null,
      "outputs": []
    },
    {
      "cell_type": "code",
      "source": [
        "f,axs = plt.subplots(1,2,figsize=(10,3))\n",
        "axs[0].hist(df_sol_des ['LogS'])\n",
        "axs[0].set_xlabel('Aqueous solubility (logS)')\n",
        "axs[0].set_ylabel('count')\n",
        "axs[1].boxplot(df_sol_des ['LogS'])\n",
        "axs[1].set_ylabel('Aqueous solubility (LogS)')"
      ],
      "metadata": {
        "id": "M_8jsuNBCNuh"
      },
      "execution_count": null,
      "outputs": []
    },
    {
      "cell_type": "code",
      "source": [
        "# Define the path to Google Drive (make sure the folder exists)\n",
        "file_path = '/content/drive/MyDrive/solubility/sol_des_clean.zip'\n",
        "\n",
        "# Set compression options for saving the DataFrame as a .zip file\n",
        "compression_opts = dict(method='zip', archive_name='sol_des_clean.csv')\n",
        "\n",
        "# Save the DataFrame as a compressed .zip file in Google Drive\n",
        "df_sol_des.to_csv(file_path, index=False, compression=compression_opts)"
      ],
      "metadata": {
        "id": "ObuEK3Dur9-Y"
      },
      "execution_count": null,
      "outputs": []
    }
  ]
}
